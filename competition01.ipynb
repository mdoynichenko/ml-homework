{
 "cells": [
  {
   "cell_type": "code",
   "execution_count": 1,
   "id": "397b5898",
   "metadata": {},
   "outputs": [],
   "source": [
    "import pandas as pd\n",
    "import sklearn as sk\n",
    "import numpy as np\n",
    "from sklearn.model_selection import KFold\n",
    "from sklearn.neighbors import KNeighborsClassifier\n",
    "from sklearn.impute import SimpleImputer, KNNImputer"
   ]
  },
  {
   "cell_type": "code",
   "execution_count": 2,
   "id": "bd802211",
   "metadata": {},
   "outputs": [
    {
     "data": {
      "text/html": [
       "<div>\n",
       "<style scoped>\n",
       "    .dataframe tbody tr th:only-of-type {\n",
       "        vertical-align: middle;\n",
       "    }\n",
       "\n",
       "    .dataframe tbody tr th {\n",
       "        vertical-align: top;\n",
       "    }\n",
       "\n",
       "    .dataframe thead th {\n",
       "        text-align: right;\n",
       "    }\n",
       "</style>\n",
       "<table border=\"1\" class=\"dataframe\">\n",
       "  <thead>\n",
       "    <tr style=\"text-align: right;\">\n",
       "      <th></th>\n",
       "      <th>id</th>\n",
       "      <th>0</th>\n",
       "      <th>1</th>\n",
       "      <th>2</th>\n",
       "      <th>3</th>\n",
       "      <th>4</th>\n",
       "      <th>5</th>\n",
       "      <th>6</th>\n",
       "      <th>7</th>\n",
       "      <th>8</th>\n",
       "      <th>...</th>\n",
       "      <th>81</th>\n",
       "      <th>82</th>\n",
       "      <th>83</th>\n",
       "      <th>84</th>\n",
       "      <th>85</th>\n",
       "      <th>86</th>\n",
       "      <th>87</th>\n",
       "      <th>88</th>\n",
       "      <th>89</th>\n",
       "      <th>label</th>\n",
       "    </tr>\n",
       "  </thead>\n",
       "  <tbody>\n",
       "    <tr>\n",
       "      <th>0</th>\n",
       "      <td>0</td>\n",
       "      <td>-166.824782</td>\n",
       "      <td>17.033603</td>\n",
       "      <td>113.694779</td>\n",
       "      <td>NaN</td>\n",
       "      <td>-182.215604</td>\n",
       "      <td>-2.521714</td>\n",
       "      <td>-199.901124</td>\n",
       "      <td>NaN</td>\n",
       "      <td>-45.708388</td>\n",
       "      <td>...</td>\n",
       "      <td>-332.452466</td>\n",
       "      <td>85.085788</td>\n",
       "      <td>-13.024603</td>\n",
       "      <td>-9.562681</td>\n",
       "      <td>83.766392</td>\n",
       "      <td>85.735232</td>\n",
       "      <td>56.783683</td>\n",
       "      <td>-38.675632</td>\n",
       "      <td>150.462556</td>\n",
       "      <td>0</td>\n",
       "    </tr>\n",
       "    <tr>\n",
       "      <th>1</th>\n",
       "      <td>1</td>\n",
       "      <td>365.475478</td>\n",
       "      <td>-26.553938</td>\n",
       "      <td>236.325629</td>\n",
       "      <td>-52.226619</td>\n",
       "      <td>-178.108750</td>\n",
       "      <td>9.660407</td>\n",
       "      <td>208.059278</td>\n",
       "      <td>-72.996101</td>\n",
       "      <td>-204.824642</td>\n",
       "      <td>...</td>\n",
       "      <td>-177.413509</td>\n",
       "      <td>86.435633</td>\n",
       "      <td>219.232681</td>\n",
       "      <td>210.197297</td>\n",
       "      <td>310.312671</td>\n",
       "      <td>57.361344</td>\n",
       "      <td>-154.756712</td>\n",
       "      <td>-32.910450</td>\n",
       "      <td>-174.949022</td>\n",
       "      <td>1</td>\n",
       "    </tr>\n",
       "    <tr>\n",
       "      <th>2</th>\n",
       "      <td>2</td>\n",
       "      <td>256.087325</td>\n",
       "      <td>142.746874</td>\n",
       "      <td>225.408770</td>\n",
       "      <td>-137.328993</td>\n",
       "      <td>-116.358770</td>\n",
       "      <td>103.970800</td>\n",
       "      <td>-188.420302</td>\n",
       "      <td>-32.550649</td>\n",
       "      <td>NaN</td>\n",
       "      <td>...</td>\n",
       "      <td>-577.352793</td>\n",
       "      <td>226.505005</td>\n",
       "      <td>-150.845434</td>\n",
       "      <td>-59.454808</td>\n",
       "      <td>59.194336</td>\n",
       "      <td>95.909930</td>\n",
       "      <td>-45.067073</td>\n",
       "      <td>15.599768</td>\n",
       "      <td>-58.092245</td>\n",
       "      <td>9</td>\n",
       "    </tr>\n",
       "    <tr>\n",
       "      <th>3</th>\n",
       "      <td>3</td>\n",
       "      <td>256.717078</td>\n",
       "      <td>130.483910</td>\n",
       "      <td>310.188561</td>\n",
       "      <td>45.661678</td>\n",
       "      <td>-218.639113</td>\n",
       "      <td>-236.996842</td>\n",
       "      <td>-199.403190</td>\n",
       "      <td>-253.164302</td>\n",
       "      <td>-63.168319</td>\n",
       "      <td>...</td>\n",
       "      <td>227.910817</td>\n",
       "      <td>-70.595150</td>\n",
       "      <td>459.307503</td>\n",
       "      <td>49.871418</td>\n",
       "      <td>-249.139920</td>\n",
       "      <td>88.601608</td>\n",
       "      <td>23.564391</td>\n",
       "      <td>-32.892407</td>\n",
       "      <td>-320.543956</td>\n",
       "      <td>3</td>\n",
       "    </tr>\n",
       "    <tr>\n",
       "      <th>4</th>\n",
       "      <td>4</td>\n",
       "      <td>-241.955610</td>\n",
       "      <td>-83.173692</td>\n",
       "      <td>301.710460</td>\n",
       "      <td>-91.500567</td>\n",
       "      <td>NaN</td>\n",
       "      <td>121.229830</td>\n",
       "      <td>-258.974149</td>\n",
       "      <td>-322.076770</td>\n",
       "      <td>-49.659415</td>\n",
       "      <td>...</td>\n",
       "      <td>328.431952</td>\n",
       "      <td>92.227399</td>\n",
       "      <td>467.847176</td>\n",
       "      <td>-40.249718</td>\n",
       "      <td>57.830269</td>\n",
       "      <td>-146.688066</td>\n",
       "      <td>220.323157</td>\n",
       "      <td>34.831294</td>\n",
       "      <td>24.678597</td>\n",
       "      <td>6</td>\n",
       "    </tr>\n",
       "  </tbody>\n",
       "</table>\n",
       "<p>5 rows × 92 columns</p>\n",
       "</div>"
      ],
      "text/plain": [
       "   id           0           1           2           3           4           5  \\\n",
       "0   0 -166.824782   17.033603  113.694779         NaN -182.215604   -2.521714   \n",
       "1   1  365.475478  -26.553938  236.325629  -52.226619 -178.108750    9.660407   \n",
       "2   2  256.087325  142.746874  225.408770 -137.328993 -116.358770  103.970800   \n",
       "3   3  256.717078  130.483910  310.188561   45.661678 -218.639113 -236.996842   \n",
       "4   4 -241.955610  -83.173692  301.710460  -91.500567         NaN  121.229830   \n",
       "\n",
       "            6           7           8  ...          81          82  \\\n",
       "0 -199.901124         NaN  -45.708388  ... -332.452466   85.085788   \n",
       "1  208.059278  -72.996101 -204.824642  ... -177.413509   86.435633   \n",
       "2 -188.420302  -32.550649         NaN  ... -577.352793  226.505005   \n",
       "3 -199.403190 -253.164302  -63.168319  ...  227.910817  -70.595150   \n",
       "4 -258.974149 -322.076770  -49.659415  ...  328.431952   92.227399   \n",
       "\n",
       "           83          84          85          86          87         88  \\\n",
       "0  -13.024603   -9.562681   83.766392   85.735232   56.783683 -38.675632   \n",
       "1  219.232681  210.197297  310.312671   57.361344 -154.756712 -32.910450   \n",
       "2 -150.845434  -59.454808   59.194336   95.909930  -45.067073  15.599768   \n",
       "3  459.307503   49.871418 -249.139920   88.601608   23.564391 -32.892407   \n",
       "4  467.847176  -40.249718   57.830269 -146.688066  220.323157  34.831294   \n",
       "\n",
       "           89  label  \n",
       "0  150.462556      0  \n",
       "1 -174.949022      1  \n",
       "2  -58.092245      9  \n",
       "3 -320.543956      3  \n",
       "4   24.678597      6  \n",
       "\n",
       "[5 rows x 92 columns]"
      ]
     },
     "execution_count": 2,
     "metadata": {},
     "output_type": "execute_result"
    }
   ],
   "source": [
    "train = pd.read_csv('train.csv')\n",
    "train.head()"
   ]
  },
  {
   "cell_type": "code",
   "execution_count": 3,
   "id": "8b5bcea1",
   "metadata": {},
   "outputs": [
    {
     "data": {
      "text/html": [
       "<div>\n",
       "<style scoped>\n",
       "    .dataframe tbody tr th:only-of-type {\n",
       "        vertical-align: middle;\n",
       "    }\n",
       "\n",
       "    .dataframe tbody tr th {\n",
       "        vertical-align: top;\n",
       "    }\n",
       "\n",
       "    .dataframe thead th {\n",
       "        text-align: right;\n",
       "    }\n",
       "</style>\n",
       "<table border=\"1\" class=\"dataframe\">\n",
       "  <thead>\n",
       "    <tr style=\"text-align: right;\">\n",
       "      <th></th>\n",
       "      <th>id</th>\n",
       "      <th>0</th>\n",
       "      <th>1</th>\n",
       "      <th>2</th>\n",
       "      <th>3</th>\n",
       "      <th>4</th>\n",
       "      <th>5</th>\n",
       "      <th>6</th>\n",
       "      <th>7</th>\n",
       "      <th>8</th>\n",
       "      <th>...</th>\n",
       "      <th>80</th>\n",
       "      <th>81</th>\n",
       "      <th>82</th>\n",
       "      <th>83</th>\n",
       "      <th>84</th>\n",
       "      <th>85</th>\n",
       "      <th>86</th>\n",
       "      <th>87</th>\n",
       "      <th>88</th>\n",
       "      <th>89</th>\n",
       "    </tr>\n",
       "  </thead>\n",
       "  <tbody>\n",
       "    <tr>\n",
       "      <th>0</th>\n",
       "      <td>0</td>\n",
       "      <td>NaN</td>\n",
       "      <td>NaN</td>\n",
       "      <td>78.105602</td>\n",
       "      <td>NaN</td>\n",
       "      <td>27.263848</td>\n",
       "      <td>NaN</td>\n",
       "      <td>86.017175</td>\n",
       "      <td>50.424767</td>\n",
       "      <td>-61.915767</td>\n",
       "      <td>...</td>\n",
       "      <td>-74.031231</td>\n",
       "      <td>479.785984</td>\n",
       "      <td>54.962311</td>\n",
       "      <td>-343.979735</td>\n",
       "      <td>-93.251990</td>\n",
       "      <td>33.010356</td>\n",
       "      <td>-54.498837</td>\n",
       "      <td>-39.568282</td>\n",
       "      <td>-111.535203</td>\n",
       "      <td>-8.233110</td>\n",
       "    </tr>\n",
       "    <tr>\n",
       "      <th>1</th>\n",
       "      <td>1</td>\n",
       "      <td>30.000909</td>\n",
       "      <td>NaN</td>\n",
       "      <td>691.954480</td>\n",
       "      <td>-46.286694</td>\n",
       "      <td>NaN</td>\n",
       "      <td>NaN</td>\n",
       "      <td>-23.244682</td>\n",
       "      <td>-291.611654</td>\n",
       "      <td>-55.534847</td>\n",
       "      <td>...</td>\n",
       "      <td>655.078687</td>\n",
       "      <td>441.989100</td>\n",
       "      <td>-138.524768</td>\n",
       "      <td>-124.655609</td>\n",
       "      <td>61.867380</td>\n",
       "      <td>-90.086187</td>\n",
       "      <td>-18.298289</td>\n",
       "      <td>-169.294359</td>\n",
       "      <td>-196.780912</td>\n",
       "      <td>-7.127010</td>\n",
       "    </tr>\n",
       "    <tr>\n",
       "      <th>2</th>\n",
       "      <td>2</td>\n",
       "      <td>87.057436</td>\n",
       "      <td>106.860293</td>\n",
       "      <td>NaN</td>\n",
       "      <td>46.245733</td>\n",
       "      <td>-204.271635</td>\n",
       "      <td>-236.349492</td>\n",
       "      <td>-132.876512</td>\n",
       "      <td>32.830881</td>\n",
       "      <td>190.534127</td>\n",
       "      <td>...</td>\n",
       "      <td>180.217779</td>\n",
       "      <td>31.193760</td>\n",
       "      <td>134.389222</td>\n",
       "      <td>-208.634289</td>\n",
       "      <td>136.196460</td>\n",
       "      <td>49.124821</td>\n",
       "      <td>-41.453356</td>\n",
       "      <td>168.939329</td>\n",
       "      <td>-70.029444</td>\n",
       "      <td>-27.508850</td>\n",
       "    </tr>\n",
       "    <tr>\n",
       "      <th>3</th>\n",
       "      <td>3</td>\n",
       "      <td>133.683072</td>\n",
       "      <td>140.666470</td>\n",
       "      <td>NaN</td>\n",
       "      <td>-43.268632</td>\n",
       "      <td>NaN</td>\n",
       "      <td>93.804596</td>\n",
       "      <td>4.737805</td>\n",
       "      <td>621.660742</td>\n",
       "      <td>215.324634</td>\n",
       "      <td>...</td>\n",
       "      <td>273.187794</td>\n",
       "      <td>310.190438</td>\n",
       "      <td>-61.420497</td>\n",
       "      <td>156.520005</td>\n",
       "      <td>170.077972</td>\n",
       "      <td>81.772007</td>\n",
       "      <td>99.166807</td>\n",
       "      <td>266.081272</td>\n",
       "      <td>-185.359210</td>\n",
       "      <td>-66.228673</td>\n",
       "    </tr>\n",
       "    <tr>\n",
       "      <th>4</th>\n",
       "      <td>4</td>\n",
       "      <td>52.002690</td>\n",
       "      <td>24.682843</td>\n",
       "      <td>250.992064</td>\n",
       "      <td>76.731366</td>\n",
       "      <td>-1.518029</td>\n",
       "      <td>-8.136746</td>\n",
       "      <td>NaN</td>\n",
       "      <td>135.728587</td>\n",
       "      <td>48.296441</td>\n",
       "      <td>...</td>\n",
       "      <td>459.397881</td>\n",
       "      <td>-186.687745</td>\n",
       "      <td>44.344978</td>\n",
       "      <td>-48.723744</td>\n",
       "      <td>52.798684</td>\n",
       "      <td>49.864260</td>\n",
       "      <td>-94.273259</td>\n",
       "      <td>167.404452</td>\n",
       "      <td>-48.654228</td>\n",
       "      <td>-25.918759</td>\n",
       "    </tr>\n",
       "  </tbody>\n",
       "</table>\n",
       "<p>5 rows × 91 columns</p>\n",
       "</div>"
      ],
      "text/plain": [
       "   id           0           1           2          3           4           5  \\\n",
       "0   0         NaN         NaN   78.105602        NaN   27.263848         NaN   \n",
       "1   1   30.000909         NaN  691.954480 -46.286694         NaN         NaN   \n",
       "2   2   87.057436  106.860293         NaN  46.245733 -204.271635 -236.349492   \n",
       "3   3  133.683072  140.666470         NaN -43.268632         NaN   93.804596   \n",
       "4   4   52.002690   24.682843  250.992064  76.731366   -1.518029   -8.136746   \n",
       "\n",
       "            6           7           8  ...          80          81  \\\n",
       "0   86.017175   50.424767  -61.915767  ...  -74.031231  479.785984   \n",
       "1  -23.244682 -291.611654  -55.534847  ...  655.078687  441.989100   \n",
       "2 -132.876512   32.830881  190.534127  ...  180.217779   31.193760   \n",
       "3    4.737805  621.660742  215.324634  ...  273.187794  310.190438   \n",
       "4         NaN  135.728587   48.296441  ...  459.397881 -186.687745   \n",
       "\n",
       "           82          83          84         85         86          87  \\\n",
       "0   54.962311 -343.979735  -93.251990  33.010356 -54.498837  -39.568282   \n",
       "1 -138.524768 -124.655609   61.867380 -90.086187 -18.298289 -169.294359   \n",
       "2  134.389222 -208.634289  136.196460  49.124821 -41.453356  168.939329   \n",
       "3  -61.420497  156.520005  170.077972  81.772007  99.166807  266.081272   \n",
       "4   44.344978  -48.723744   52.798684  49.864260 -94.273259  167.404452   \n",
       "\n",
       "           88         89  \n",
       "0 -111.535203  -8.233110  \n",
       "1 -196.780912  -7.127010  \n",
       "2  -70.029444 -27.508850  \n",
       "3 -185.359210 -66.228673  \n",
       "4  -48.654228 -25.918759  \n",
       "\n",
       "[5 rows x 91 columns]"
      ]
     },
     "execution_count": 3,
     "metadata": {},
     "output_type": "execute_result"
    }
   ],
   "source": [
    "test = pd.read_csv('test.csv')\n",
    "test.head()"
   ]
  },
  {
   "cell_type": "code",
   "execution_count": 4,
   "id": "3425689a",
   "metadata": {},
   "outputs": [
    {
     "data": {
      "text/plain": [
       "((10000, 91), (50000, 92))"
      ]
     },
     "execution_count": 4,
     "metadata": {},
     "output_type": "execute_result"
    }
   ],
   "source": [
    "test.shape, train.shape"
   ]
  },
  {
   "cell_type": "code",
   "execution_count": 5,
   "id": "51510ade",
   "metadata": {},
   "outputs": [
    {
     "data": {
      "text/plain": [
       "((1779, 90), (50000, 90))"
      ]
     },
     "execution_count": 5,
     "metadata": {},
     "output_type": "execute_result"
    }
   ],
   "source": [
    "y_pd = train['label']\n",
    "X_pd = train.drop(columns=['label', 'id'])\n",
    "\n",
    "X_clear = X_pd.dropna()\n",
    "X_clear.shape, X_pd.shape"
   ]
  },
  {
   "cell_type": "code",
   "execution_count": 6,
   "id": "5c22c9cd",
   "metadata": {},
   "outputs": [
    {
     "data": {
      "text/plain": [
       "((50000, 90), (50000,))"
      ]
     },
     "execution_count": 6,
     "metadata": {},
     "output_type": "execute_result"
    }
   ],
   "source": [
    "X = np.array(X_pd)\n",
    "y = np.array(y_pd)\n",
    "X.shape, y.shape"
   ]
  },
  {
   "cell_type": "code",
   "execution_count": 7,
   "id": "438231db",
   "metadata": {},
   "outputs": [
    {
     "data": {
      "text/plain": [
       "(10000, 90)"
      ]
     },
     "execution_count": 7,
     "metadata": {},
     "output_type": "execute_result"
    }
   ],
   "source": [
    "X_for_test_pd = test.drop(columns=['id'])\n",
    "X_for_test = np.array(X_for_test_pd)\n",
    "X_for_test.shape"
   ]
  },
  {
   "cell_type": "markdown",
   "id": "75a20386",
   "metadata": {},
   "source": [
    "Попробуем kNN с заполнением неизвестных значений по 'mean' или 'most_frequent'"
   ]
  },
  {
   "cell_type": "code",
   "execution_count": 8,
   "id": "80a4bb27",
   "metadata": {
    "scrolled": false
   },
   "outputs": [
    {
     "name": "stdout",
     "output_type": "stream",
     "text": [
      "0.6141477170456591 with mean 1 1 uniform\n",
      "0.32741345173096537 with mean 1 1 uniform\n",
      "0.33055322212888516 with mean 1 1 uniform\n",
      "0.6141477170456591 with mean 1 1 distance\n",
      "0.32741345173096537 with mean 1 1 distance\n",
      "0.33055322212888516 with mean 1 1 distance\n",
      "0.618407631847363 with mean 1 2 uniform\n",
      "0.18173636527269454 with mean 1 2 uniform\n",
      "0.1813272530901236 with mean 1 2 uniform\n",
      "0.6141477170456591 with mean 1 2 distance\n",
      "0.32741345173096537 with mean 1 2 distance\n",
      "0.33055322212888516 with mean 1 2 distance\n",
      "0.6139077218455631 with mean 1 3 uniform\n",
      "0.25499490010199793 with mean 1 3 uniform\n",
      "0.25465018600744027 with mean 1 3 uniform\n",
      "0.6128277434451311 with mean 1 3 distance\n",
      "0.25445491090178196 with mean 1 3 distance\n",
      "0.2518900756030241 with mean 1 3 distance\n",
      "0.6148077038459231 with mean 2 1 uniform\n",
      "0.33095338093238136 with mean 2 1 uniform\n",
      "0.33049321972878914 with mean 2 1 uniform\n",
      "0.6148077038459231 with mean 2 1 distance\n",
      "0.33095338093238136 with mean 2 1 distance\n",
      "0.33049321972878914 with mean 2 1 distance\n",
      "0.6185876282474351 with mean 2 2 uniform\n",
      "0.18239635207295854 with mean 2 2 uniform\n",
      "0.18150726029041162 with mean 2 2 uniform\n",
      "0.6148077038459231 with mean 2 2 distance\n",
      "0.33095338093238136 with mean 2 2 distance\n",
      "0.33049321972878914 with mean 2 2 distance\n",
      "0.6135477290454191 with mean 2 3 uniform\n",
      "0.25703485930281395 with mean 2 3 uniform\n",
      "0.2560302412096484 with mean 2 3 uniform\n",
      "0.6130077398452031 with mean 2 3 distance\n",
      "0.25481490370192594 with mean 2 3 distance\n",
      "0.25291011640465616 with mean 2 3 distance\n",
      "0.624107517849643 with most_frequent 1 1 uniform\n",
      "0.35393292134157317 with most_frequent 1 1 uniform\n",
      "0.3500540021600864 with most_frequent 1 1 uniform\n",
      "0.624107517849643 with most_frequent 1 1 distance\n",
      "0.35393292134157317 with most_frequent 1 1 distance\n",
      "0.3500540021600864 with most_frequent 1 1 distance\n",
      "0.6295674086518269 with most_frequent 1 2 uniform\n",
      "0.21347573048539029 with most_frequent 1 2 uniform\n",
      "0.21138845553822153 with most_frequent 1 2 uniform\n",
      "0.624107517849643 with most_frequent 1 2 distance\n",
      "0.35393292134157317 with most_frequent 1 2 distance\n",
      "0.3500540021600864 with most_frequent 1 2 distance\n",
      "0.623207535849283 with most_frequent 1 3 uniform\n",
      "0.28001439971200576 with most_frequent 1 3 uniform\n",
      "0.2821912876515061 with most_frequent 1 3 uniform\n",
      "0.621287574248515 with most_frequent 1 3 distance\n",
      "0.2748545029099418 with most_frequent 1 3 distance\n",
      "0.2763110524420977 with most_frequent 1 3 distance\n",
      "0.6373672526549469 with most_frequent 2 1 uniform\n",
      "0.374992500149997 with most_frequent 2 1 uniform\n",
      "0.3718348733949358 with most_frequent 2 1 uniform\n",
      "0.6373672526549469 with most_frequent 2 1 distance\n",
      "0.374992500149997 with most_frequent 2 1 distance\n",
      "0.3718348733949358 with most_frequent 2 1 distance\n",
      "0.6432471350572988 with most_frequent 2 2 uniform\n",
      "0.24485510289794205 with most_frequent 2 2 uniform\n",
      "0.2437297491899676 with most_frequent 2 2 uniform\n",
      "0.6373672526549469 with most_frequent 2 2 distance\n",
      "0.374992500149997 with most_frequent 2 2 distance\n",
      "0.3718348733949358 with most_frequent 2 2 distance\n",
      "0.635807283854323 with most_frequent 2 3 uniform\n",
      "0.3097738045239095 with most_frequent 2 3 uniform\n",
      "0.30091203648145926 with most_frequent 2 3 uniform\n",
      "0.6322073558528829 with most_frequent 2 3 distance\n",
      "0.30419391612167757 with most_frequent 2 3 distance\n",
      "0.2980919236769471 with most_frequent 2 3 distance\n"
     ]
    }
   ],
   "source": [
    "for strat in ['mean', 'most_frequent']:\n",
    "    for k in [1, 2]:\n",
    "        for neigh in [1,2,3]:\n",
    "            for weight in ['uniform', 'distance']:\n",
    "                my_kf = KFold(n_splits = 3)\n",
    "                my_imp = SimpleImputer(strategy = strat, missing_values=np.nan)\n",
    "                X_fixed = my_imp.fit_transform(X)\n",
    "                for train_index, test_index in my_kf.split(X_fixed):\n",
    "                    X_train, X_test = X_fixed[train_index], X_fixed[test_index]\n",
    "                    y_train, y_test = y[train_index], y[test_index]\n",
    "                    knnClassifier = sk.neighbors.KNeighborsClassifier(n_neighbors=neigh, p = k, weights=weight)\n",
    "                    knnClassifier.fit(X_train, y_train)\n",
    "                    tmp_res = knnClassifier.predict(X_test)\n",
    "                    accur = (tmp_res - y_test != 0).sum()/len(y_test)\n",
    "                    print('{0} with {1} {2} {3} {4}'.format(accur, strat, k, neigh, weight))\n",
    "                    \n"
   ]
  },
  {
   "cell_type": "markdown",
   "id": "b6e8decf",
   "metadata": {},
   "source": [
    "Попробуем теперь использовать most_frequent с большим количеством соседей и с метрикой p = 2 (наилушие показатели)"
   ]
  },
  {
   "cell_type": "code",
   "execution_count": 9,
   "id": "c8f20c85",
   "metadata": {},
   "outputs": [
    {
     "name": "stdout",
     "output_type": "stream",
     "text": [
      "0.631427371452571 with most_frequent 2 5 uniform\n",
      "0.24623507529849403 with most_frequent 2 5 uniform\n",
      "0.24282971318852753 with most_frequent 2 5 uniform\n",
      "0.629867402651947 with most_frequent 2 5 distance\n",
      "0.254034919301614 with most_frequent 2 5 distance\n",
      "0.24780991239649586 with most_frequent 2 5 distance\n",
      "0.6313673726525469 with most_frequent 2 6 uniform\n",
      "0.19379612407751845 with most_frequent 2 6 uniform\n",
      "0.18912756510260412 with most_frequent 2 6 uniform\n",
      "0.629267414651707 with most_frequent 2 6 distance\n",
      "0.24371512569748605 with most_frequent 2 6 distance\n",
      "0.23976959078363136 with most_frequent 2 6 distance\n",
      "0.630047399052019 with most_frequent 2 7 uniform\n",
      "0.21035579288414233 with most_frequent 2 7 uniform\n",
      "0.2093483739349574 with most_frequent 2 7 uniform\n",
      "0.628967420651587 with most_frequent 2 7 distance\n",
      "0.21827563448731024 with most_frequent 2 7 distance\n",
      "0.2154686187447498 with most_frequent 2 7 distance\n",
      "0.630047399052019 with most_frequent 2 8 uniform\n",
      "0.17705645887082258 with most_frequent 2 8 uniform\n",
      "0.17412696507860315 with most_frequent 2 8 uniform\n",
      "0.628727425451491 with most_frequent 2 8 distance\n",
      "0.21233575328493431 with most_frequent 2 8 distance\n",
      "0.20784831393255732 with most_frequent 2 8 distance\n",
      "0.629927401451971 with most_frequent 2 9 uniform\n",
      "0.18803623927521448 with most_frequent 2 9 uniform\n",
      "0.1859474378975159 with most_frequent 2 9 uniform\n",
      "0.628607427851443 with most_frequent 2 9 distance\n",
      "0.19439611207775845 with most_frequent 2 9 distance\n",
      "0.19146765870634824 with most_frequent 2 9 distance\n",
      "0.6303473930521389 with most_frequent 2 10 uniform\n",
      "0.16829663406731865 with most_frequent 2 10 uniform\n",
      "0.16308652346093844 with most_frequent 2 10 uniform\n",
      "0.6284274314513709 with most_frequent 2 10 distance\n",
      "0.19217615647687047 with most_frequent 2 10 distance\n",
      "0.1891875675027001 with most_frequent 2 10 distance\n",
      "0.6308273834523309 with most_frequent 2 11 uniform\n",
      "0.17279654406911862 with most_frequent 2 11 uniform\n",
      "0.17016680667226688 with most_frequent 2 11 uniform\n",
      "0.630047399052019 with most_frequent 2 11 distance\n",
      "0.17885642287154258 with most_frequent 2 11 distance\n",
      "0.1752070082803312 with most_frequent 2 11 distance\n",
      "0.631007379852403 with most_frequent 2 12 uniform\n",
      "0.15797684046319074 with most_frequent 2 12 uniform\n",
      "0.15168606744269772 with most_frequent 2 12 uniform\n",
      "0.6295674086518269 with most_frequent 2 12 distance\n",
      "0.1760364792704146 with most_frequent 2 12 distance\n",
      "0.16974678987159486 with most_frequent 2 12 distance\n",
      "0.630887382252355 with most_frequent 2 13 uniform\n",
      "0.1625367492650147 with most_frequent 2 13 uniform\n",
      "0.1593063722548902 with most_frequent 2 13 uniform\n",
      "0.629627407451851 with most_frequent 2 13 distance\n",
      "0.16829663406731865 with most_frequent 2 13 distance\n",
      "0.1644665786631465 with most_frequent 2 13 distance\n",
      "0.6313673726525469 with most_frequent 2 14 uniform\n",
      "0.14843703125937482 with most_frequent 2 14 uniform\n",
      "0.14634585383415336 with most_frequent 2 14 uniform\n",
      "0.6294474110517789 with most_frequent 2 14 distance\n",
      "0.16565668686626267 with most_frequent 2 14 distance\n",
      "0.1594263770550822 with most_frequent 2 14 distance\n"
     ]
    }
   ],
   "source": [
    "k = 2\n",
    "strat = 'most_frequent'\n",
    "my_imp = SimpleImputer(strategy = strat, missing_values=np.nan)\n",
    "X_fixed = my_imp.fit_transform(X)\n",
    "\n",
    "for neigh in range(5, 15):\n",
    "    for weight in ['uniform', 'distance']:\n",
    "        my_kf = KFold(n_splits = 3)\n",
    "        for train_index, test_index in my_kf.split(X_fixed):\n",
    "            X_train, X_test = X_fixed[train_index], X_fixed[test_index]\n",
    "            y_train, y_test = y[train_index], y[test_index]\n",
    "            knnClassifier = sk.neighbors.KNeighborsClassifier(n_neighbors=neigh, p = k, weights=weight)\n",
    "            knnClassifier.fit(X_train, y_train)\n",
    "            tmp_res = knnClassifier.predict(X_test)\n",
    "            accur = (tmp_res - y_test != 0).sum()/len(y_test)\n",
    "            print('{0} with {1} {2} {3} {4}'.format(accur, strat, k, neigh, weight))"
   ]
  },
  {
   "cell_type": "markdown",
   "id": "80d04c93",
   "metadata": {},
   "source": [
    "Заменим most_frequent на подбор пропущенных значений по kNN"
   ]
  },
  {
   "cell_type": "code",
   "execution_count": 38,
   "id": "a6ce02fd",
   "metadata": {},
   "outputs": [
    {
     "name": "stdout",
     "output_type": "stream",
     "text": [
      "0.9955 with kNN 2 2 uniform\n",
      "0.2142 with kNN 2 2 uniform\n",
      "0.2085 with kNN 2 2 uniform\n",
      "0.2147 with kNN 2 2 uniform\n",
      "0.211 with kNN 2 2 uniform\n",
      "0.9918 with kNN 2 2 distance\n",
      "0.3263 with kNN 2 2 distance\n",
      "0.3304 with kNN 2 2 distance\n",
      "0.3257 with kNN 2 2 distance\n",
      "0.3291 with kNN 2 2 distance\n",
      "0.995 with kNN 2 4 uniform\n",
      "0.1749 with kNN 2 4 uniform\n",
      "0.1744 with kNN 2 4 uniform\n",
      "0.1756 with kNN 2 4 uniform\n",
      "0.172 with kNN 2 4 uniform\n",
      "0.9936 with kNN 2 4 distance\n",
      "0.2329 with kNN 2 4 distance\n",
      "0.2378 with kNN 2 4 distance\n",
      "0.234 with kNN 2 4 distance\n",
      "0.2297 with kNN 2 4 distance\n",
      "0.9938 with kNN 2 6 uniform\n",
      "0.1522 with kNN 2 6 uniform\n",
      "0.1475 with kNN 2 6 uniform\n",
      "0.1503 with kNN 2 6 uniform\n",
      "0.1454 with kNN 2 6 uniform\n",
      "0.9926 with kNN 2 6 distance\n",
      "0.1906 with kNN 2 6 distance\n",
      "0.1849 with kNN 2 6 distance\n",
      "0.1848 with kNN 2 6 distance\n",
      "0.1818 with kNN 2 6 distance\n",
      "0.9937 with kNN 2 8 uniform\n",
      "0.1358 with kNN 2 8 uniform\n",
      "0.1315 with kNN 2 8 uniform\n",
      "0.1392 with kNN 2 8 uniform\n",
      "0.131 with kNN 2 8 uniform\n",
      "0.9929 with kNN 2 8 distance\n",
      "0.1585 with kNN 2 8 distance\n",
      "0.1542 with kNN 2 8 distance\n",
      "0.1565 with kNN 2 8 distance\n",
      "0.1546 with kNN 2 8 distance\n",
      "0.994 with kNN 2 10 uniform\n",
      "0.1249 with kNN 2 10 uniform\n",
      "0.1224 with kNN 2 10 uniform\n",
      "0.1276 with kNN 2 10 uniform\n",
      "0.1229 with kNN 2 10 uniform\n",
      "0.9931 with kNN 2 10 distance\n",
      "0.1407 with kNN 2 10 distance\n",
      "0.1369 with kNN 2 10 distance\n",
      "0.1412 with kNN 2 10 distance\n",
      "0.1361 with kNN 2 10 distance\n",
      "0.9938 with kNN 2 12 uniform\n",
      "0.1195 with kNN 2 12 uniform\n",
      "0.1192 with kNN 2 12 uniform\n",
      "0.1202 with kNN 2 12 uniform\n",
      "0.1149 with kNN 2 12 uniform\n",
      "0.9931 with kNN 2 12 distance\n",
      "0.1294 with kNN 2 12 distance\n",
      "0.1294 with kNN 2 12 distance\n",
      "0.1298 with kNN 2 12 distance\n",
      "0.1237 with kNN 2 12 distance\n",
      "0.9933 with kNN 2 14 uniform\n",
      "0.1139 with kNN 2 14 uniform\n",
      "0.1143 with kNN 2 14 uniform\n",
      "0.1158 with kNN 2 14 uniform\n",
      "0.1073 with kNN 2 14 uniform\n",
      "0.9926 with kNN 2 14 distance\n",
      "0.121 with kNN 2 14 distance\n",
      "0.1223 with kNN 2 14 distance\n",
      "0.1243 with kNN 2 14 distance\n",
      "0.1135 with kNN 2 14 distance\n",
      "0.9922 with kNN 2 16 uniform\n",
      "0.1106 with kNN 2 16 uniform\n",
      "0.1104 with kNN 2 16 uniform\n",
      "0.1113 with kNN 2 16 uniform\n",
      "0.1044 with kNN 2 16 uniform\n",
      "0.992 with kNN 2 16 distance\n",
      "0.1162 with kNN 2 16 distance\n",
      "0.1146 with kNN 2 16 distance\n",
      "0.1165 with kNN 2 16 distance\n",
      "0.1091 with kNN 2 16 distance\n",
      "0.9924 with kNN 2 18 uniform\n",
      "0.1084 with kNN 2 18 uniform\n",
      "0.1072 with kNN 2 18 uniform\n",
      "0.108 with kNN 2 18 uniform\n",
      "0.1016 with kNN 2 18 uniform\n",
      "0.9917 with kNN 2 18 distance\n",
      "0.1094 with kNN 2 18 distance\n",
      "0.1094 with kNN 2 18 distance\n",
      "0.1103 with kNN 2 18 distance\n",
      "0.1059 with kNN 2 18 distance\n"
     ]
    }
   ],
   "source": [
    "k = 2\n",
    "strat = 'kNN'\n",
    "\n",
    "for neigh in range(2, 20, 2):\n",
    "    for weight in ['uniform', 'distance']:\n",
    "        knn_imp = KNNImputer(n_neighbors=neigh, weights=weight)\n",
    "        X_fixed = knn_imp.fit_transform(X)\n",
    "        my_kf = KFold(n_splits = 5)\n",
    "        for train_index, test_index in my_kf.split(X_fixed):\n",
    "            X_train, X_test = X_fixed[train_index], X_fixed[test_index]\n",
    "            y_train, y_test = y[train_index], y[test_index]\n",
    "            knnClassifier = sk.neighbors.KNeighborsClassifier(n_neighbors=neigh, p = k, weights=weight)\n",
    "            knnClassifier.fit(X_train, y_train)\n",
    "            tmp_res = knnClassifier.predict(X_test)\n",
    "            accur = (tmp_res - y_test != 0).sum()/len(y_test)\n",
    "            print('{0} with {1} {2} {3} {4}'.format(accur, strat, k, neigh, weight))"
   ]
  },
  {
   "cell_type": "markdown",
   "id": "e93d2518",
   "metadata": {},
   "source": [
    "Попроубем использовать заполнение пропущенных значений по kNN, а предсказание -- по наивному Байесу с гауссовским распределением."
   ]
  },
  {
   "cell_type": "markdown",
   "id": "a7ad2416",
   "metadata": {},
   "source": [
    "Возьмем наивный Байес и заполнение по kNN distance 6.\n",
    "Данные, которые по которым нам нужно предсказать класс, тоже дополним по kNN 6 dist."
   ]
  },
  {
   "cell_type": "code",
   "execution_count": 25,
   "id": "76088a2e",
   "metadata": {},
   "outputs": [
    {
     "data": {
      "text/plain": [
       "array([1, 8, 9, ..., 5, 3, 3], dtype=int64)"
      ]
     },
     "execution_count": 25,
     "metadata": {},
     "output_type": "execute_result"
    }
   ],
   "source": [
    "knn_imp = KNNImputer(n_neighbors=neigh, weights=weight)\n",
    "X_fixed = knn_imp.fit_transform(X)\n",
    "X_for_test_fixed = knn_imp.fit_transform(X_for_test)\n",
    "\n",
    "my_clf = GaussianNB()\n",
    "my_clf.fit(X_fixed, y)\n",
    "\n",
    "my_labels = my_clf.predict(X_for_test_fixed)\n",
    "my_labels"
   ]
  },
  {
   "cell_type": "code",
   "execution_count": 29,
   "id": "3888f5f7",
   "metadata": {},
   "outputs": [
    {
     "data": {
      "text/plain": [
       "(   id  label\n",
       " 0   0      1\n",
       " 1   1      8\n",
       " 2   2      9\n",
       " 3   3      9\n",
       " 4   4      6,\n",
       " (10000, 2))"
      ]
     },
     "execution_count": 29,
     "metadata": {},
     "output_type": "execute_result"
    }
   ],
   "source": [
    "result = pd.DataFrame({'id': test['id'], 'label': my_labels})\n",
    "result.head(), result.shape"
   ]
  },
  {
   "cell_type": "code",
   "execution_count": 31,
   "id": "54902870",
   "metadata": {},
   "outputs": [],
   "source": [
    "result.to_csv('DoynichenkoMaxim.csv', index=False)"
   ]
  },
  {
   "cell_type": "markdown",
   "id": "e88e3300",
   "metadata": {},
   "source": [
    "Возьмем kNN 6 dist"
   ]
  },
  {
   "cell_type": "code",
   "execution_count": 32,
   "id": "82160878",
   "metadata": {},
   "outputs": [
    {
     "data": {
      "text/plain": [
       "array([1, 8, 9, ..., 5, 3, 3], dtype=int64)"
      ]
     },
     "execution_count": 32,
     "metadata": {},
     "output_type": "execute_result"
    }
   ],
   "source": [
    "knn_imp = KNNImputer(n_neighbors=neigh, weights=weight)\n",
    "X_fixed = knn_imp.fit_transform(X)\n",
    "X_for_test_fixed = knn_imp.fit_transform(X_for_test)\n",
    "\n",
    "\n",
    "knnClassifier = sk.neighbors.KNeighborsClassifier(n_neighbors=6, p = 2, weights='distance')\n",
    "knnClassifier.fit(X_fixed, y)\n",
    "my_labels = knnClassifier.predict(X_for_test_fixed)\n",
    "my_labels"
   ]
  },
  {
   "cell_type": "code",
   "execution_count": 33,
   "id": "b2dd1551",
   "metadata": {},
   "outputs": [],
   "source": [
    "result = pd.DataFrame({'id': test['id'], 'label': my_labels})\n",
    "result.to_csv('DoynichenkoMaxim.csv', index=False)"
   ]
  },
  {
   "cell_type": "markdown",
   "id": "14ad490b",
   "metadata": {},
   "source": [
    "Еще стоит попробовать kNN 4 dist"
   ]
  },
  {
   "cell_type": "code",
   "execution_count": 36,
   "id": "9ddf9f21",
   "metadata": {},
   "outputs": [
    {
     "data": {
      "text/plain": [
       "array([1, 8, 9, ..., 5, 3, 3], dtype=int64)"
      ]
     },
     "execution_count": 36,
     "metadata": {},
     "output_type": "execute_result"
    }
   ],
   "source": [
    "knn_imp = KNNImputer(n_neighbors=4, weights='distance')\n",
    "X_fixed = my_imp.fit_transform(X)\n",
    "X_for_test_fixed = my_imp.fit_transform(X_for_test)\n",
    "\n",
    "\n",
    "knnClassifier = sk.neighbors.KNeighborsClassifier(n_neighbors=4, p = 2, weights='distance')\n",
    "knnClassifier.fit(X_fixed, y)\n",
    "my_labels = knnClassifier.predict(X_for_test_fixed)\n",
    "my_labels"
   ]
  },
  {
   "cell_type": "code",
   "execution_count": 37,
   "id": "102ad8d9",
   "metadata": {},
   "outputs": [],
   "source": [
    "result = pd.DataFrame({'id': test['id'], 'label': my_labels})\n",
    "result.to_csv('DoynichenkoMaxim.csv', index=False)"
   ]
  },
  {
   "cell_type": "markdown",
   "id": "5c94e713",
   "metadata": {},
   "source": [
    "Попробуем SVM"
   ]
  },
  {
   "cell_type": "markdown",
   "id": "64c48239",
   "metadata": {},
   "source": [
    "Заготовим сразу наборы с заполнением пропусков по kNN, так как их вычисление занимает очень много времени"
   ]
  },
  {
   "cell_type": "code",
   "execution_count": 12,
   "id": "bf5f6ae0",
   "metadata": {},
   "outputs": [
    {
     "name": "stdout",
     "output_type": "stream",
     "text": [
      "Done for kNN 4\n",
      "Done for kNN 6\n",
      "Done for kNN 8\n"
     ]
    }
   ],
   "source": [
    "knn_imp = KNNImputer(n_neighbors=4, weights='distance')\n",
    "X_train_kNN4_fixed = knn_imp.fit_transform(X)\n",
    "print('Done for kNN 4')\n",
    "\n",
    "knn_imp = KNNImputer(n_neighbors=6, weights='distance')\n",
    "X_train_kNN6_fixed = knn_imp.fit_transform(X)\n",
    "print('Done for kNN 6')\n",
    "\n",
    "knn_imp = KNNImputer(n_neighbors=8, weights='distance')\n",
    "X_train_kNN8_fixed = knn_imp.fit_transform(X)\n",
    "print('Done for kNN 8')\n"
   ]
  },
  {
   "cell_type": "code",
   "execution_count": null,
   "id": "f6f1405c",
   "metadata": {},
   "outputs": [],
   "source": []
  },
  {
   "cell_type": "code",
   "execution_count": 14,
   "id": "6e24b013",
   "metadata": {},
   "outputs": [
    {
     "name": "stdout",
     "output_type": "stream",
     "text": [
      "=======\n",
      "0.9896\n",
      "0.1606\n",
      "0.1472\n",
      "0.1591\n",
      "0.1578\n",
      "=======\n",
      "0.9894\n",
      "0.1613\n",
      "0.1484\n",
      "0.16\n",
      "0.1574\n",
      "=======\n",
      "0.9898\n",
      "0.1616\n",
      "0.1481\n",
      "0.1604\n",
      "0.1572\n"
     ]
    }
   ],
   "source": [
    "from sklearn.naive_bayes import GaussianNB\n",
    "\n",
    "k = 2\n",
    "strat = 'kNN & Bayes'\n",
    "\n",
    "for data_imp in [X_train_kNN4_fixed, X_train_kNN6_fixed, X_train_kNN8_fixed]:\n",
    "    print('=======')\n",
    "    my_kf = KFold(n_splits = 5)\n",
    "    for train_index, test_index in my_kf.split(data_imp):\n",
    "        X_train, X_test = data_imp[train_index], data_imp[test_index]\n",
    "        y_train, y_test = y[train_index], y[test_index]\n",
    "\n",
    "        my_clf = GaussianNB()\n",
    "        my_clf.fit(X_train, y_train)\n",
    "\n",
    "        tmp_res = my_clf.predict(X_test)\n",
    "\n",
    "        accur = (tmp_res - y_test != 0).sum()/len(y_test)\n",
    "        print('{0}'.format(accur))\n"
   ]
  },
  {
   "cell_type": "code",
   "execution_count": 31,
   "id": "11d2f2b5",
   "metadata": {
    "scrolled": true
   },
   "outputs": [
    {
     "name": "stdout",
     "output_type": "stream",
     "text": [
      "=======\n",
      "0.9972 \n",
      "0.0311 \n",
      "0.0294 \n",
      "0.0307 \n",
      "0.0245 \n",
      "=======\n",
      "0.9973 \n",
      "0.0318 \n",
      "0.0291 \n",
      "0.0318 \n",
      "0.0244 \n",
      "=======\n",
      "0.9972 \n",
      "0.0322 \n",
      "0.0299 \n",
      "0.0313 \n",
      "0.0248 \n"
     ]
    }
   ],
   "source": [
    "from sklearn.svm import SVC\n",
    "\n",
    "strat = 'kNN & SVM'\n",
    "weight = 'distance'\n",
    "\n",
    "for data_imp in [X_train_kNN4_fixed, X_train_kNN6_fixed, X_train_kNN8_fixed]:\n",
    "    print('=======')\n",
    "\n",
    "    my_kf = KFold(n_splits = 5)\n",
    "    for train_index, test_index in my_kf.split(data_imp):\n",
    "        X_train, X_test = data_imp[train_index], data_imp[test_index]\n",
    "        y_train, y_test = y[train_index], y[test_index]\n",
    "\n",
    "        my_clf = SVC()\n",
    "        my_clf.fit(X_train, y_train)\n",
    "\n",
    "        tmp_res = my_clf.predict(X_test)\n",
    "\n",
    "        accur = (tmp_res - y_test != 0).sum()/len(y_test)\n",
    "        print('{0} '.format(accur))"
   ]
  },
  {
   "cell_type": "markdown",
   "id": "166404bf",
   "metadata": {},
   "source": [
    "Попробуем kNN и в заполнении пропущенных значений, и в определении класса"
   ]
  },
  {
   "cell_type": "code",
   "execution_count": 16,
   "id": "9c2ad9fc",
   "metadata": {},
   "outputs": [
    {
     "name": "stdout",
     "output_type": "stream",
     "text": [
      "0.6116877662446751 with kNN 2 4 distance\n",
      "0.24731505369892604 with kNN 2 4 distance\n",
      "0.2485299411976479 with kNN 2 4 distance\n",
      "0.6116277674446511 with kNN 2 4 distance\n",
      "0.24605507889842204 with kNN 2 4 distance\n",
      "0.24768990759630385 with kNN 2 4 distance\n",
      "0.6113877722445551 with kNN 2 4 distance\n",
      "0.24563508729825403 with kNN 2 4 distance\n",
      "0.2487699507980319 with kNN 2 4 distance\n",
      "0.612227755444891 with kNN 2 6 distance\n",
      "0.20141597168056638 with kNN 2 6 distance\n",
      "0.19890795631825273 with kNN 2 6 distance\n",
      "0.6124677506449872 with kNN 2 6 distance\n",
      "0.2011159776804464 with kNN 2 6 distance\n",
      "0.19878795151806072 with kNN 2 6 distance\n",
      "0.6121677566448671 with kNN 2 6 distance\n",
      "0.1990760184796304 with kNN 2 6 distance\n",
      "0.19776791071642866 with kNN 2 6 distance\n",
      "0.6125277494450111 with kNN 2 8 distance\n",
      "0.16643667126657466 with kNN 2 8 distance\n",
      "0.1643465738629545 with kNN 2 8 distance\n",
      "0.6125877482450351 with kNN 2 8 distance\n",
      "0.16511669766604667 with kNN 2 8 distance\n",
      "0.16392655706228249 with kNN 2 8 distance\n",
      "0.6122877542449151 with kNN 2 8 distance\n",
      "0.16763664726705466 with kNN 2 8 distance\n",
      "0.16506660266410655 with kNN 2 8 distance\n",
      "0.6134277314453711 with kNN 2 10 distance\n",
      "0.14411711765764684 with kNN 2 10 distance\n",
      "0.13770550822032881 with kNN 2 10 distance\n",
      "0.613607727845443 with kNN 2 10 distance\n",
      "0.14477710445791084 with kNN 2 10 distance\n",
      "0.1371654866194648 with kNN 2 10 distance\n",
      "0.6131877362452751 with kNN 2 10 distance\n",
      "0.14597708045839083 with kNN 2 10 distance\n",
      "0.13698547941917677 with kNN 2 10 distance\n",
      "0.6138477230455391 with kNN 2 12 distance\n",
      "0.124437511249775 with kNN 2 12 distance\n",
      "0.12132485299411977 with kNN 2 12 distance\n",
      "0.6140277194456111 with kNN 2 12 distance\n",
      "0.125757484850303 with kNN 2 12 distance\n",
      "0.1203648145925837 with kNN 2 12 distance\n",
      "0.6140877182456351 with kNN 2 12 distance\n",
      "0.127077458450831 with kNN 2 12 distance\n",
      "0.1218648745949838 with kNN 2 12 distance\n"
     ]
    }
   ],
   "source": [
    "k = 2\n",
    "strat = 'kNN'\n",
    "weight = 'distance'\n",
    "\n",
    "for neigh in range(4, 14, 2):\n",
    "    for data_imp in [X_train_kNN4_fixed, X_train_kNN6_fixed, X_train_kNN8_fixed]:\n",
    "        my_kf = KFold(n_splits = 3)\n",
    "        for train_index, test_index in my_kf.split(data_imp):\n",
    "            X_train, X_test = data_imp[train_index], data_imp[test_index]\n",
    "            y_train, y_test = y[train_index], y[test_index]\n",
    "            knnClassifier = sk.neighbors.KNeighborsClassifier(n_neighbors=neigh, p = k, weights=weight)\n",
    "            knnClassifier.fit(X_train, y_train)\n",
    "            tmp_res = knnClassifier.predict(X_test)\n",
    "            accur = (tmp_res - y_test != 0).sum()/len(y_test)\n",
    "            print('{0} with {1} {2} {3} {4}'.format(accur, strat, k, neigh, weight))"
   ]
  },
  {
   "cell_type": "code",
   "execution_count": null,
   "id": "f49c76e5",
   "metadata": {},
   "outputs": [],
   "source": [
    "X_train_kNN4_fixed.to_csv('train_x_4.csv', index = False)\n",
    "X_train_kNN6_fixed.to_csv('train_x_6.csv', index = False)\n",
    "X_train_kNN8_fixed.to_csv('train_x_8.csv', index = False)\n",
    "\n",
    "knn_imp = KNNImputer(n_neighbors=4, weights='distance')\n",
    "X_test_kNN4_fixed = knn_imp.fit_transform(X_for_test)\n",
    "print('Done for kNN 4 [test]')\n",
    "\n",
    "knn_imp = KNNImputer(n_neighbors=6, weights='distance')\n",
    "X_test_kNN6_fixed = knn_imp.fit_transform(X_for_test)\n",
    "print('Done for kNN 6 [test]')\n",
    "\n",
    "knn_imp = KNNImputer(n_neighbors=8, weights='distance')\n",
    "X_test_kNN8_fixed = knn_imp.fit_transform(X_for_test)\n",
    "print('Done for kNN 8 [test]')\n",
    "\n",
    "X_test_kNN4_fixed.to_csv('test_x_4.csv', index = False)\n",
    "X_test_kNN6_fixed.to_csv('test_x_6.csv', index = False)\n",
    "X_test_kNN8_fixed.to_csv('test_x_8.csv', index = False)"
   ]
  },
  {
   "cell_type": "markdown",
   "id": "339a1f4f",
   "metadata": {},
   "source": [
    "SVM + kNN обработка. Судя по тестам, лучший вариант -- 4 соседа"
   ]
  },
  {
   "cell_type": "code",
   "execution_count": 18,
   "id": "9e3ee4ca",
   "metadata": {},
   "outputs": [
    {
     "name": "stdout",
     "output_type": "stream",
     "text": [
      "test_transformed\n"
     ]
    }
   ],
   "source": [
    "knn_imp = KNNImputer(n_neighbors=4, weights='distance')\n",
    "X_test_kNN4_fixed = knn_imp.fit_transform(X_for_test)\n",
    "\n",
    "print('test_transformed')\n",
    "\n"
   ]
  },
  {
   "cell_type": "markdown",
   "id": "39ef35ef",
   "metadata": {},
   "source": [
    "my_clf = SVC()\n",
    "my_clf.fit(X_train_kNN4_fixed, y)\n",
    "\n",
    "my_labels = my_clf.predict(X_test_kNN4_fixed)\n",
    "my_labels"
   ]
  },
  {
   "cell_type": "code",
   "execution_count": 22,
   "id": "b3144ad6",
   "metadata": {},
   "outputs": [],
   "source": [
    "result = pd.DataFrame({'id': test['id'], 'label': my_labels})\n",
    "result.to_csv('DoynichenkoMaxim.csv', index=False)"
   ]
  },
  {
   "cell_type": "markdown",
   "id": "a1bfb3a8",
   "metadata": {},
   "source": [
    "Попробуем SVM c заполнением по 'mean'"
   ]
  },
  {
   "cell_type": "code",
   "execution_count": 26,
   "id": "89eb0381",
   "metadata": {},
   "outputs": [
    {
     "data": {
      "text/plain": [
       "array([1, 8, 9, ..., 5, 3, 3], dtype=int64)"
      ]
     },
     "execution_count": 26,
     "metadata": {},
     "output_type": "execute_result"
    }
   ],
   "source": [
    "from sklearn.svm import SVC\n",
    "\n",
    "my_imp = SimpleImputer(strategy='mean')\n",
    "X_mean_fixed_train = my_imp.fit_transform(X)\n",
    "X_mean_fixed_test = my_imp.fit_transform(X_for_test)\n",
    "\n",
    "my_clf = SVC()\n",
    "my_clf.fit(X_mean_fixed_train, y)\n",
    "my_labels = my_clf.predict(X_mean_fixed_test)\n",
    "my_labels\n"
   ]
  },
  {
   "cell_type": "code",
   "execution_count": 27,
   "id": "26eb017e",
   "metadata": {},
   "outputs": [],
   "source": [
    "result = pd.DataFrame({'id': test['id'], 'label': my_labels})\n",
    "result.to_csv('DoynichenkoMaxim.csv', index=False)"
   ]
  },
  {
   "cell_type": "code",
   "execution_count": 28,
   "id": "2209bec1",
   "metadata": {},
   "outputs": [
    {
     "data": {
      "text/plain": [
       "array([1, 8, 9, ..., 5, 3, 3], dtype=int64)"
      ]
     },
     "execution_count": 28,
     "metadata": {},
     "output_type": "execute_result"
    }
   ],
   "source": [
    "from sklearn.svm import SVC\n",
    "\n",
    "\n",
    "my_clf = SVC()\n",
    "my_clf.fit(X_train_kNN4_fixed, y)\n",
    "my_labels2 = my_clf.predict(X_test_kNN4_fixed)\n",
    "my_labels2\n",
    "\n"
   ]
  },
  {
   "cell_type": "code",
   "execution_count": 29,
   "id": "c4a78355",
   "metadata": {},
   "outputs": [
    {
     "data": {
      "text/plain": [
       "0.0104"
      ]
     },
     "execution_count": 29,
     "metadata": {},
     "output_type": "execute_result"
    }
   ],
   "source": [
    "(my_labels - my_labels2 != 0).sum()/len(my_labels)"
   ]
  },
  {
   "cell_type": "code",
   "execution_count": 30,
   "id": "2c70a581",
   "metadata": {},
   "outputs": [],
   "source": [
    "result = pd.DataFrame({'id': test['id'], 'label': my_labels2})\n",
    "result.to_csv('DoynichenkoMaxim.csv', index=False)"
   ]
  },
  {
   "cell_type": "code",
   "execution_count": 32,
   "id": "d3784d35",
   "metadata": {},
   "outputs": [
    {
     "name": "stdout",
     "output_type": "stream",
     "text": [
      "=======\n",
      "0.9975 \n",
      "0.0344 \n",
      "0.0323 \n",
      "0.0339 \n",
      "0.0269 \n",
      "=======\n",
      "0.9964 \n",
      "0.0529 \n",
      "0.0477 \n",
      "0.0496 \n",
      "0.0426 \n"
     ]
    }
   ],
   "source": [
    "from sklearn.svm import SVC\n",
    "\n",
    "weight = 'distance'\n",
    "\n",
    "for strat in ['mean', 'most_frequent']:\n",
    "    print('=======')\n",
    "    my_imp = SimpleImputer(strategy=strat)\n",
    "    X_fixed = my_imp.fit_transform(X)\n",
    "    my_kf = KFold(n_splits = 5)\n",
    "    for train_index, test_index in my_kf.split(X_fixed):\n",
    "        X_train, X_test = X_fixed[train_index], X_fixed[test_index]\n",
    "        y_train, y_test = y[train_index], y[test_index]\n",
    "\n",
    "        my_clf = SVC()\n",
    "        my_clf.fit(X_train, y_train)\n",
    "\n",
    "        tmp_res = my_clf.predict(X_test)\n",
    "\n",
    "        accur = (tmp_res - y_test != 0).sum()/len(y_test)\n",
    "        print('{0} '.format(accur))"
   ]
  },
  {
   "cell_type": "markdown",
   "id": "fb0b1b6a",
   "metadata": {},
   "source": [
    "В итоге лучшие показатели в Public-тесте были достигнуты на SVC с заполнением пустых значений с помощью SimpleImputer со стратегией 'mean'. Скорее всего при использовании SVC и заполнения с помощью kNN с 4 соседями и весами 'distance' точность на Public-тесте была бы выше, но него его отправку уже не хватило сабмита (лимит 5 сабмитов в сутки)."
   ]
  },
  {
   "cell_type": "code",
   "execution_count": null,
   "id": "88f040aa",
   "metadata": {},
   "outputs": [],
   "source": []
  }
 ],
 "metadata": {
  "kernelspec": {
   "display_name": "Python 3 (ipykernel)",
   "language": "python",
   "name": "python3"
  },
  "language_info": {
   "codemirror_mode": {
    "name": "ipython",
    "version": 3
   },
   "file_extension": ".py",
   "mimetype": "text/x-python",
   "name": "python",
   "nbconvert_exporter": "python",
   "pygments_lexer": "ipython3",
   "version": "3.9.12"
  }
 },
 "nbformat": 4,
 "nbformat_minor": 5
}
